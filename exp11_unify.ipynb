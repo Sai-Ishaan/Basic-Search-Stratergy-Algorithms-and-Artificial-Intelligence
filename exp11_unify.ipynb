{
 "cells": [
  {
   "cell_type": "code",
   "execution_count": 7,
   "id": "8bb1c2aa-ab77-4d7c-991f-4782e4e7b533",
   "metadata": {},
   "outputs": [
    {
     "name": "stdin",
     "output_type": "stream",
     "text": [
      "Enter the first expression:  Prime(13)\n",
      "Enter the second expression:  Prime(y)\n"
     ]
    },
    {
     "name": "stdout",
     "output_type": "stream",
     "text": [
      "Θ = {'y': 13}\n"
     ]
    }
   ],
   "source": [
    "import re\n",
    "\n",
    "def is_variable(x):\n",
    "    return isinstance(x, str) and x.islower()\n",
    "\n",
    "def is_compound(x):\n",
    "    return isinstance(x, tuple) and len(x) > 0\n",
    "\n",
    "def is_list(x):\n",
    "    return isinstance(x, list)\n",
    "\n",
    "def occur_check(var, x, theta):\n",
    "    if var == x:\n",
    "        return True\n",
    "    elif is_variable(x) and (x, var) in theta:\n",
    "        return occur_check(var, theta[x], theta)\n",
    "    elif is_compound(x):\n",
    "        return any(occur_check(var, arg, theta) for arg in x[1:])\n",
    "    return False\n",
    "\n",
    "def unify_var(var, x, theta):\n",
    "    if (var, x) in theta:\n",
    "        return unify(theta[var], x, theta)\n",
    "    elif (x, var) in theta:\n",
    "        return unify(var, theta[x], theta)\n",
    "    elif occur_check(var, x, theta):\n",
    "        return 'failure'\n",
    "    else:\n",
    "        theta[var] = x\n",
    "        return theta\n",
    "\n",
    "def unify(x, y, theta=None):\n",
    "    if theta is None:\n",
    "        theta = {}\n",
    "    \n",
    "    if theta == 'failure':\n",
    "        return 'failure'\n",
    "    elif x == y:\n",
    "        return theta\n",
    "    elif is_variable(x):\n",
    "        return unify_var(x, y, theta)\n",
    "    elif is_variable(y):\n",
    "        return unify_var(y, x, theta)\n",
    "    elif is_compound(x) and is_compound(y):\n",
    "        return unify(x[1:], y[1:], unify(x[0], y[0], theta))\n",
    "    elif is_list(x) and is_list(y):\n",
    "        return unify(x[1:], y[1:], unify(x[0], y[0], theta))\n",
    "    else:\n",
    "        return 'failure'\n",
    "\n",
    "def parse_expression(expr):\n",
    "    expr = re.sub(r'(\\w+)\\(([^)]+)\\)', r\"('\\1', \\2)\", expr)\n",
    "    expr = expr.replace(\" \", \"\")\n",
    "    expr = re.sub(r\"(?<!')\\b([a-z]+)\\b(?!')\", r\"'\\1'\", expr) \n",
    "    return eval(expr)\n",
    "if __name__ == \"__main__\":\n",
    "    expr1 = input(\"Enter the first expression: \")\n",
    "    expr2 = input(\"Enter the second expression: \")\n",
    "    \n",
    "    expr1 = parse_expression(expr1)\n",
    "    expr2 = parse_expression(expr2)\n",
    "    \n",
    "    result = unify(expr1, expr2)\n",
    "    \n",
    "    print(\"Θ =\", result)\n"
   ]
  },
  {
   "cell_type": "code",
   "execution_count": null,
   "id": "98a229fb-8d10-4670-b7c7-84a8af25fb28",
   "metadata": {},
   "outputs": [],
   "source": []
  }
 ],
 "metadata": {
  "kernelspec": {
   "display_name": "Python 3 (ipykernel)",
   "language": "python",
   "name": "python3"
  },
  "language_info": {
   "codemirror_mode": {
    "name": "ipython",
    "version": 3
   },
   "file_extension": ".py",
   "mimetype": "text/x-python",
   "name": "python",
   "nbconvert_exporter": "python",
   "pygments_lexer": "ipython3",
   "version": "3.11.5"
  }
 },
 "nbformat": 4,
 "nbformat_minor": 5
}
