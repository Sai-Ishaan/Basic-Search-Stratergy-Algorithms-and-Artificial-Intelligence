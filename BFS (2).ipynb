{
 "cells": [
  {
   "cell_type": "code",
   "execution_count": 12,
   "id": "6449c232-ef50-4d7e-872e-8ec90583a583",
   "metadata": {},
   "outputs": [
    {
     "name": "stdout",
     "output_type": "stream",
     "text": [
      "Path from  A to  F : ['A', 'F']\n"
     ]
    }
   ],
   "source": [
    "from collections import deque\n",
    "def bfs(graph, start, goal):\n",
    "    queue=deque([(start, [start])])\n",
    "    visited = set([start])\n",
    "    while queue:\n",
    "        current_node, path = queue.popleft()\n",
    "        if current_node == goal:\n",
    "            return path\n",
    "        for neighbor in graph[current_node]:\n",
    "            if neighbor not in visited:\n",
    "                visited.add(neighbor) \n",
    "                queue.append((neighbor, path+[neighbor]))\n",
    "    return None\n",
    "\n",
    "graph = {\n",
    "    'A':['F', 'C', 'B'],\n",
    "    'F':['C', 'B', 'D'],\n",
    "    'C':['B', 'D', 'E', 'G'],\n",
    "    'B':['D', 'E', 'G'],\n",
    "    'D':['E', 'G', 'J'],\n",
    "    'F':['G', 'J', 'K']\n",
    "}\n",
    "start_node = 'A'\n",
    "goal_node = 'F'\n",
    "\n",
    "path = bfs(graph, start_node, goal_node)\n",
    "\n",
    "if path:\n",
    "    print(\"Path from \", start_node, \"to \", goal_node,\":\", path)\n",
    "else:\n",
    "    print(\"NO PATH FOUND!!!\")"
   ]
  },
  {
   "cell_type": "code",
   "execution_count": 24,
   "id": "0a2ca81d-b239-45c9-ae8c-42533d0a84e3",
   "metadata": {},
   "outputs": [
    {
     "name": "stdout",
     "output_type": "stream",
     "text": [
      "No solution found\n"
     ]
    }
   ],
   "source": [
    "from collections import deque\n",
    "import os\n",
    "\n",
    "def is_valid_state(m,c):\n",
    "        return(m==0 or m>=c) and (3-m==0 or 3-m >= 3-c)\n",
    "def get_successor(state):\n",
    "        m,c, boat = state\n",
    "        successors= []\n",
    "     \n",
    "        if boat == \"left\":\n",
    "            moves = [(1,0), (2,0), (0,1),(0,2),(1,1)]\n",
    "        else:\n",
    "            moves = [(-1,0),(-2,0),(0,-1),(0,-2), (-1,-1)]\n",
    "        for m_move, c_move in moves:\n",
    "            new_m = m+m_move\n",
    "            new_c = c+c_move\n",
    "            new_boat = 'right' if boat == 'left' else 'left'\n",
    "            if 0<=new_m<=3 and 0<=new_c<=3 and is_valid_state(new_m,new_c):\n",
    "                successors.append((new_m, new_c, new_boat))\n",
    "        return successors    \n",
    "    \n",
    "def bfs():\n",
    "        initial = (3, 3, 'left')\n",
    "        goal = (0, 0, 'right')\n",
    "        queue = deque([(initial, [])])\n",
    "        visited = set()\n",
    "        while queue:\n",
    "            current, path = queue.popleft()\n",
    "            if current in visited:\n",
    "                continue\n",
    "            visited.add(current)    \n",
    "            path = path + [current]\n",
    "            if current == goal:\n",
    "                return path\n",
    "            for successor in get_successor(current):\n",
    "                 queue.append((successor, path))\n",
    "        return None\n",
    "\n",
    "def main():\n",
    "    soln = bfs()\n",
    "    if soln:\n",
    "        print(\"Solution: \")\n",
    "        for state in soln:\n",
    "            print(state)\n",
    "    else:\n",
    "        print(\"No solution found\")\n",
    "        \n",
    "if __name__ == \"__main__\":\n",
    "    main()"
   ]
  },
  {
   "cell_type": "code",
   "execution_count": 23,
   "id": "18af4a1f-4a6a-40cc-a0e3-b5e4e7e8fede",
   "metadata": {},
   "outputs": [
    {
     "name": "stdout",
     "output_type": "stream",
     "text": [
      "No solution exists.\n"
     ]
    }
   ],
   "source": [
    "from collections import deque\n",
    "\n",
    "class State:\n",
    "    def __init__(self, cannibalLeft, missionaryLeft, boat, cannibalRight, missionaryRight):\n",
    "        self.cannibalLeft = cannibalLeft\n",
    "        self.missionaryLeft = missionaryLeft\n",
    "        self.boat = boat\n",
    "        self.cannibalRight = cannibalRight\n",
    "        self.missionaryRight = missionaryRight\n",
    "        self.parent = None\n",
    "\n",
    "    def is_goal(self):\n",
    "        return self.cannibalLeft == 0 and self.missionaryLeft == 0\n",
    "\n",
    "    def is_valid(self):\n",
    "        return self.missionaryLeft >= 0 and self.missionaryRight >= 0 \\\n",
    "               and self.cannibalLeft >= 0 and self.cannibalRight >= 0 \\\n",
    "               and (self.missionaryLeft == 0 or self.missionaryLeft >= self.cannibalLeft) \\\n",
    "               and (self.missionaryRight == 0 or self.missionaryRight >= self.cannibalRight)\n",
    "\n",
    "def bfs(start_state):\n",
    "    queue = deque([(start_state, [start_state])])\n",
    "    visited = set([start_state])\n",
    "\n",
    "    while queue:\n",
    "        current_state, path = queue.popleft()\n",
    "\n",
    "        if current_state.is_goal():\n",
    "            return path\n",
    "\n",
    "        for next_state in successors(current_state):\n",
    "            if next_state not in visited:\n",
    "                visited.add(next_state)\n",
    "                next_path = path + [next_state]\n",
    "                queue.append((next_state, next_path))\n",
    "\n",
    "    return None\n",
    "\n",
    "def successors(cur_state):\n",
    "    children = []\n",
    "    if cur_state.boat == 'left':\n",
    "        \n",
    "    else:\n",
    "        # Define possible moves from right to left\n",
    "        # Add valid moves to children list\n",
    "    return children\n",
    "\n",
    "# Define initial state\n",
    "initial_state = State(3, 3, 'left', 0, 0)\n",
    "\n",
    "# Solve the problem using BFS\n",
    "path = bfs(initial_state)\n",
    "\n",
    "if path:\n",
    "    print(\"Solution found:\")\n",
    "    for i, state in enumerate(path):\n",
    "        print(f\"Step {i}: {state.cannibalLeft}, {state.missionaryLeft}, {state.boat}, {state.cannibalRight}, {state.missionaryRight}\")\n",
    "else:\n",
    "    print(\"No solution found.\")"
   ]
  },
  {
   "cell_type": "code",
   "execution_count": null,
   "id": "3871ebd3-63a9-4cbc-9e79-dfbdd9954b2a",
   "metadata": {},
   "outputs": [],
   "source": []
  }
 ],
 "metadata": {
  "kernelspec": {
   "display_name": "Python 3 (ipykernel)",
   "language": "python",
   "name": "python3"
  },
  "language_info": {
   "codemirror_mode": {
    "name": "ipython",
    "version": 3
   },
   "file_extension": ".py",
   "mimetype": "text/x-python",
   "name": "python",
   "nbconvert_exporter": "python",
   "pygments_lexer": "ipython3",
   "version": "3.11.1"
  }
 },
 "nbformat": 4,
 "nbformat_minor": 5
}
